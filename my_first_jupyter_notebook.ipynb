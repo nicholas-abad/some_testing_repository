{
 "cells": [
  {
   "cell_type": "code",
   "execution_count": 5,
   "id": "be29812b-301d-4a6f-b197-eba416689480",
   "metadata": {},
   "outputs": [
    {
     "name": "stdout",
     "output_type": "stream",
     "text": [
      "Hello world!\n"
     ]
    }
   ],
   "source": [
    "print(\"Hello world!\")"
   ]
  },
  {
   "cell_type": "code",
   "execution_count": 4,
   "id": "3c31ca76-7165-439e-9c5a-75d80e7bfa50",
   "metadata": {},
   "outputs": [
    {
     "name": "stdout",
     "output_type": "stream",
     "text": [
      "This is the second line\n"
     ]
    }
   ],
   "source": [
    "print(\"This is the second line\")"
   ]
  },
  {
   "cell_type": "code",
   "execution_count": 6,
   "id": "667fec62-7728-43e0-bc68-bf5d140145c7",
   "metadata": {},
   "outputs": [
    {
     "name": "stdout",
     "output_type": "stream",
     "text": [
      "Hello again\n"
     ]
    }
   ],
   "source": [
    "print(\"Hello again\")"
   ]
  },
  {
   "cell_type": "markdown",
   "id": "476e94a4-c566-4531-907d-51de28376968",
   "metadata": {},
   "source": [
    "# This is some header"
   ]
  },
  {
   "cell_type": "markdown",
   "id": "36555fcb-be9c-42e8-b75e-181fad116653",
   "metadata": {},
   "source": [
    "### Here is some subheader\n",
    "- bulletpoint 1\n",
    "- bulletpoint 2\n",
    "- bulletpiint 3"
   ]
  },
  {
   "cell_type": "markdown",
   "id": "74ddaad4-c32b-4337-bda6-218f4538e3e9",
   "metadata": {},
   "source": [
    "From this graph, we could conclude that ......"
   ]
  },
  {
   "cell_type": "markdown",
   "id": "ae0b3f4a-be26-4dbb-bfe8-259dd4603739",
   "metadata": {},
   "source": [
    "Therefore, we could recommend to ...."
   ]
  },
  {
   "cell_type": "code",
   "execution_count": 1,
   "id": "518eaf1f-73bd-4751-9cff-b9f08c7b3b94",
   "metadata": {},
   "outputs": [
    {
     "name": "stdout",
     "output_type": "stream",
     "text": [
      "Hello\n"
     ]
    }
   ],
   "source": [
    "print(\"Hello\")"
   ]
  },
  {
   "cell_type": "code",
   "execution_count": null,
   "id": "9a5db3dc-c18a-4eae-ba40-812c1628b63d",
   "metadata": {},
   "outputs": [],
   "source": []
  }
 ],
 "metadata": {
  "kernelspec": {
   "display_name": "Python 3 (ipykernel)",
   "language": "python",
   "name": "python3"
  },
  "language_info": {
   "codemirror_mode": {
    "name": "ipython",
    "version": 3
   },
   "file_extension": ".py",
   "mimetype": "text/x-python",
   "name": "python",
   "nbconvert_exporter": "python",
   "pygments_lexer": "ipython3",
   "version": "3.11.9"
  }
 },
 "nbformat": 4,
 "nbformat_minor": 5
}
